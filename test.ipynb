{
 "cells": [
  {
   "cell_type": "code",
   "id": "initial_id",
   "metadata": {
    "collapsed": true,
    "ExecuteTime": {
     "end_time": "2024-06-05T14:50:32.517241Z",
     "start_time": "2024-06-05T14:50:29.762502Z"
    }
   },
   "source": [
    "from openai_client import create_completion_guesser, create_completion_choose_character\n",
    "from dotenv import load_dotenv, find_dotenv\n",
    "load_dotenv(find_dotenv(\".env\"))\n",
    "\n",
    "response = create_completion_choose_character(\"gpt-4\", \"Generate a character name\")\n",
    "print(response)"
   ],
   "outputs": [
    {
     "name": "stdout",
     "output_type": "stream",
     "text": [
      "Sherlock Holmes\n"
     ]
    }
   ],
   "execution_count": 1
  },
  {
   "metadata": {
    "ExecuteTime": {
     "end_time": "2024-06-05T14:28:18.738002Z",
     "start_time": "2024-06-05T14:28:17.410017Z"
    }
   },
   "cell_type": "code",
   "source": [
    "response = create_completion_guesser(\"gpt-4\", \"Either ask a question to guess the character. or if you are ready to guess do so.\")\n",
    "response"
   ],
   "id": "9deab3af3c79101b",
   "outputs": [
    {
     "data": {
      "text/plain": [
       "'Harry Potter'"
      ]
     },
     "execution_count": 2,
     "metadata": {},
     "output_type": "execute_result"
    }
   ],
   "execution_count": 2
  },
  {
   "metadata": {
    "ExecuteTime": {
     "end_time": "2024-06-05T15:05:48.685094Z",
     "start_time": "2024-06-05T15:05:46.736801Z"
    }
   },
   "cell_type": "code",
   "source": [
    "from bot.players.concrete_player import ConcretePlayerBot\n",
    "\n",
    "concrete_player = ConcretePlayerBot()\n",
    "\n",
    "response = concrete_player.choose_character()\n",
    "print(concrete_player.secret_character)"
   ],
   "id": "4edfad3f27271f84",
   "outputs": [
    {
     "name": "stdout",
     "output_type": "stream",
     "text": [
      "Sherlock Holmes\n"
     ]
    }
   ],
   "execution_count": 1
  },
  {
   "metadata": {
    "ExecuteTime": {
     "end_time": "2024-06-05T15:05:56.726945Z",
     "start_time": "2024-06-05T15:05:55.556015Z"
    }
   },
   "cell_type": "code",
   "source": [
    "response = concrete_player.ask_question(None)\n",
    "print(response)"
   ],
   "id": "b767a69ad90ac150",
   "outputs": [
    {
     "name": "stdout",
     "output_type": "stream",
     "text": [
      "Is your character from a film?\n"
     ]
    }
   ],
   "execution_count": 2
  },
  {
   "metadata": {
    "ExecuteTime": {
     "end_time": "2024-06-05T15:06:09.770855Z",
     "start_time": "2024-06-05T15:06:09.065451Z"
    }
   },
   "cell_type": "code",
   "source": "concrete_player.respond(\"Is your character from a film?\")",
   "id": "80f20a7d6fe0af0d",
   "outputs": [
    {
     "data": {
      "text/plain": [
       "'yes'"
      ]
     },
     "execution_count": 3,
     "metadata": {},
     "output_type": "execute_result"
    }
   ],
   "execution_count": 3
  },
  {
   "metadata": {
    "ExecuteTime": {
     "end_time": "2024-06-05T15:06:15.150999Z",
     "start_time": "2024-06-05T15:06:14.223580Z"
    }
   },
   "cell_type": "code",
   "source": [
    "response = concrete_player.ask_question(\"yes\")\n",
    "response"
   ],
   "id": "c0c1d2efb9fc6a44",
   "outputs": [
    {
     "data": {
      "text/plain": [
       "'Is your character a human?'"
      ]
     },
     "execution_count": 4,
     "metadata": {},
     "output_type": "execute_result"
    }
   ],
   "execution_count": 4
  },
  {
   "metadata": {
    "ExecuteTime": {
     "end_time": "2024-06-05T15:06:28.497580Z",
     "start_time": "2024-06-05T15:06:27.421130Z"
    }
   },
   "cell_type": "code",
   "source": [
    "response = concrete_player.respond(\"Is your character a human?\")\n",
    "response"
   ],
   "id": "d6c818a9ff020688",
   "outputs": [
    {
     "data": {
      "text/plain": [
       "'yes'"
      ]
     },
     "execution_count": 5,
     "metadata": {},
     "output_type": "execute_result"
    }
   ],
   "execution_count": 5
  },
  {
   "metadata": {
    "ExecuteTime": {
     "end_time": "2024-06-05T15:06:39.158682Z",
     "start_time": "2024-06-05T15:06:37.920727Z"
    }
   },
   "cell_type": "code",
   "source": [
    "response = concrete_player.ask_question(\"yes\")\n",
    "response"
   ],
   "id": "b058f66e565117d6",
   "outputs": [
    {
     "data": {
      "text/plain": [
       "'question: Is your character from an animated film?'"
      ]
     },
     "execution_count": 6,
     "metadata": {},
     "output_type": "execute_result"
    }
   ],
   "execution_count": 6
  },
  {
   "metadata": {},
   "cell_type": "code",
   "outputs": [],
   "execution_count": null,
   "source": "",
   "id": "8938af1e6b884933"
  }
 ],
 "metadata": {
  "kernelspec": {
   "display_name": "Python 3",
   "language": "python",
   "name": "python3"
  },
  "language_info": {
   "codemirror_mode": {
    "name": "ipython",
    "version": 2
   },
   "file_extension": ".py",
   "mimetype": "text/x-python",
   "name": "python",
   "nbconvert_exporter": "python",
   "pygments_lexer": "ipython2",
   "version": "2.7.6"
  }
 },
 "nbformat": 4,
 "nbformat_minor": 5
}
